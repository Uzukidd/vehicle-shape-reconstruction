{
 "cells": [
  {
   "cell_type": "code",
   "execution_count": 1,
   "metadata": {},
   "outputs": [
    {
     "name": "stdout",
     "output_type": "stream",
     "text": [
      "Jupyter environment detected. Enabling Open3D WebVisualizer.\n",
      "[Open3D INFO] WebRTC GUI backend enabled.\n",
      "[Open3D INFO] WebRTCWindowSystem: HTTP handshake server disabled.\n"
     ]
    },
    {
     "data": {
      "text/plain": [
       "device(type='cuda', index=0)"
      ]
     },
     "execution_count": 1,
     "metadata": {},
     "output_type": "execute_result"
    }
   ],
   "source": [
    "import numpy as np\n",
    "import torch\n",
    "import open3d as o3d\n",
    "\n",
    "from vehicle_reconstruction import *\n",
    "from scene_segmentation import *\n",
    "from open3d_vis_utils import draw_scenes\n",
    "\n",
    "torch.device(\"cuda:0\" if torch.cuda.is_available() else \"cpu\")"
   ]
  },
  {
   "cell_type": "code",
   "execution_count": 2,
   "metadata": {},
   "outputs": [
    {
     "name": "stdout",
     "output_type": "stream",
     "text": [
      "(162103, 4)\n",
      "(72, 7)\n"
     ]
    }
   ],
   "source": [
    "pts = np.load(\".\\\\data\\\\00043_pts.npy\").reshape(-1, 4).astype(np.float32)\n",
    "gt_box = np.load(\".\\\\data\\\\00043_gt.npy\").reshape(-1, 7).astype(np.float32)\n",
    "\n",
    "print(pts.shape)\n",
    "print(gt_box.shape)"
   ]
  },
  {
   "cell_type": "code",
   "execution_count": 3,
   "metadata": {},
   "outputs": [],
   "source": [
    "vis = o3d.visualization.Visualizer()\n",
    "vis.create_window(window_name=\"view\")\n",
    "\n",
    "draw_scenes(vis, points=pts, gt_boxes=gt_box, draw_origin=True)\n",
    "\n",
    "vis.run()\n",
    "vis.destroy_window()"
   ]
  },
  {
   "cell_type": "code",
   "execution_count": 4,
   "metadata": {},
   "outputs": [
    {
     "name": "stdout",
     "output_type": "stream",
     "text": [
      "[26, 20, 57]\n"
     ]
    }
   ],
   "source": [
    "global_res = 0.1\n",
    "standard_bbox = [2.5, 1.9, 5.6, -1.25, 1.25, 0.0, 1.90, -2.8, 2.8]\n",
    "grid_res = [int(np.ceil(standard_bbox[0]/global_res) + 1),\n",
    "            int(np.ceil(standard_bbox[1]/global_res) + 1),\n",
    "            int(np.ceil(standard_bbox[2]/global_res) + 1)]\n",
    "print(grid_res)\n",
    "vehi_reconstructor = vehicle_reconstructor(vehicles=None,\n",
    "                                           sampling_space=standard_bbox,\n",
    "                                           grid_res=grid_res,\n",
    "                                           global_res=global_res)\n",
    "vehi_reconstructor.load_voxel(\".\\\\data\\\\preprocessed_voxel.bin\")\n",
    "vehi_reconstructor.fit_model(k=5)"
   ]
  },
  {
   "cell_type": "code",
   "execution_count": 5,
   "metadata": {},
   "outputs": [
    {
     "name": "stdout",
     "output_type": "stream",
     "text": [
      "19\n"
     ]
    }
   ],
   "source": [
    "scene = point_cloud_scene(pts=torch.from_numpy(pts).cuda(),\n",
    "                          gt_boxes=torch.from_numpy(gt_box).cuda(),\n",
    "                          vehi_reconstructor=vehi_reconstructor)\n",
    "vehicles: list[vehicle_object] = scene.get_vehicles()\n",
    "print(vehicles.__len__())"
   ]
  },
  {
   "cell_type": "code",
   "execution_count": 6,
   "metadata": {},
   "outputs": [],
   "source": [
    "scene.pose_estimate(iter=25)\n",
    "\n",
    "vis = o3d.visualization.Visualizer()\n",
    "vis.create_window(window_name=\"view\")\n",
    "draw_scenes(vis, points=pts, gt_boxes=gt_box,\n",
    "            draw_origin=True)\n",
    "\n",
    "for vehi in vehicles:\n",
    "    \n",
    "    mesh = vehi.reconstruct_at_scene(vehi_reconstructor, standard_bbox)\n",
    "\n",
    "    mesh = o3d.geometry.TriangleMesh(\n",
    "        o3d.utility.Vector3dVector(mesh.vertices),\n",
    "        o3d.utility.Vector3iVector(mesh.faces))\n",
    "    mesh = mesh.filter_smooth_simple(number_of_iterations=5)\n",
    "    mesh.compute_vertex_normals()\n",
    "\n",
    "    vis.add_geometry(mesh)\n",
    "vis.run()\n",
    "vis.destroy_window()"
   ]
  },
  {
   "cell_type": "code",
   "execution_count": null,
   "metadata": {},
   "outputs": [],
   "source": [
    "for vehi in vehicles:\n",
    "    vis = o3d.visualization.Visualizer()\n",
    "    vis.create_window(window_name=\"view\")\n",
    "    \n",
    "    pts_centroid, bbox_centroid = vehi.centroid()\n",
    "    point_colors = np.zeros((pts_centroid.shape[0], 3))\n",
    "    point_colors[:, 0] = 1.0\n",
    "    draw_scenes(vis, points=pts_centroid,\n",
    "                gt_boxes=bbox_centroid.unsqueeze(dim=0), draw_origin=True, point_colors=point_colors)\n",
    "    \n",
    "    \n",
    "    \n",
    "    vehi.reconstruct_vehicle(vehi_reconstructor)\n",
    "    vehicle_mesh: vehicle = vehi.vehicle\n",
    "    vehicle_mesh = vehicle_mesh.to_trimesh()\n",
    "    vehicle_mesh.vertices *= 0.1\n",
    "    vehicle_mesh.vertices = vehicle_mesh.vertices[:, [2, 0, 1]]\n",
    "    \n",
    "    vehicle_mesh.vertices -= np.array([standard_bbox[2]/2.0,\n",
    "                                      standard_bbox[0]/2.0,\n",
    "                                      bbox_centroid[5].cpu() / 2.0])\n",
    "    \n",
    "    mesh = o3d.geometry.TriangleMesh(\n",
    "        o3d.utility.Vector3dVector(vehicle_mesh.vertices), \n",
    "        o3d.utility.Vector3iVector(vehicle_mesh.faces))\n",
    "    # mesh = mesh.filter_smooth_simple(number_of_iterations=1)\n",
    "    mesh.compute_vertex_normals()\n",
    "    \n",
    "    vis.add_geometry(mesh)\n",
    "    vis.run()\n",
    "    vis.destroy_window()"
   ]
  },
  {
   "cell_type": "markdown",
   "metadata": {},
   "source": [
    "{\n",
    "\t\"class_name\" : \"ViewTrajectory\",\n",
    "\t\"interval\" : 29,\n",
    "\t\"is_loop\" : false,\n",
    "\t\"trajectory\" : \n",
    "\t[\n",
    "\t\t{\n",
    "\t\t\t\"boundingbox_max\" : [ 69.118263244628906, 39.679920196533203, 16.415634155273438 ],\n",
    "\t\t\t\"boundingbox_min\" : [ -0.059999999999999998, -39.679874420166016, -6.9146575927734375 ],\n",
    "\t\t\t\"field_of_view\" : 60.0,\n",
    "\t\t\t\"front\" : [ -0.90307097537632919, 0.0017988087570628851, 0.42948757574567964 ],\n",
    "\t\t\t\"lookat\" : [ 34.529131622314452, 2.288818359375e-05, 4.75048828125 ],\n",
    "\t\t\t\"up\" : [ 0.42948904059539766, 0.0070563614983622357, 0.90304450154510629 ],\n",
    "\t\t\t\"zoom\" : 0.69999999999999996\n",
    "\t\t}\n",
    "\t],\n",
    "\t\"version_major\" : 1,\n",
    "\t\"version_minor\" : 0\n",
    "}"
   ]
  }
 ],
 "metadata": {
  "kernelspec": {
   "display_name": "car_shape_recon",
   "language": "python",
   "name": "python3"
  },
  "language_info": {
   "codemirror_mode": {
    "name": "ipython",
    "version": 3
   },
   "file_extension": ".py",
   "mimetype": "text/x-python",
   "name": "python",
   "nbconvert_exporter": "python",
   "pygments_lexer": "ipython3",
   "version": "3.10.0"
  }
 },
 "nbformat": 4,
 "nbformat_minor": 2
}
