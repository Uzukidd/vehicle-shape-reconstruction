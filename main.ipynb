{
 "cells": [
  {
   "cell_type": "code",
   "execution_count": 1,
   "metadata": {},
   "outputs": [
    {
     "ename": "",
     "evalue": "",
     "output_type": "error",
     "traceback": [
      "\u001b[1;31mThe Kernel crashed while executing code in the current cell or a previous cell. \n",
      "\u001b[1;31mPlease review the code in the cell(s) to identify a possible cause of the failure. \n",
      "\u001b[1;31mClick <a href='https://aka.ms/vscodeJupyterKernelCrash'>here</a> for more info. \n",
      "\u001b[1;31mView Jupyter <a href='command:jupyter.viewOutput'>log</a> for further details."
     ]
    }
   ],
   "source": [
    "import numpy as np\n",
    "import plotting as pm\n",
    "import os\n",
    "\n",
    "from vehicle_reconstruction import vehicle, car_models, vehicle_reconstructor\n",
    "\n",
    "CAR_MODEL_DIR = \"F:\\\\ApolloScape\\\\3d_car_instance_sample\\\\3d_car_instance_sample\\\\car_models_json\""
   ]
  },
  {
   "cell_type": "code",
   "execution_count": null,
   "metadata": {},
   "outputs": [],
   "source": [
    "vehicles: list[vehicle] = vehicle.load_car_models(car_model_dir=CAR_MODEL_DIR,\n",
    "                                models=car_models.models)\n",
    "\n",
    "for id, vehi in enumerate(vehicles):\n",
    "    print(f\"\\t{id}:\\t{vehi.name:25}\", end='\\t')\n",
    "    if id % 4 == 0:\n",
    "        print()"
   ]
  },
  {
   "cell_type": "code",
   "execution_count": null,
   "metadata": {},
   "outputs": [],
   "source": [
    "if not os.path.exists(\".\\\\vehicles_original\"):\n",
    "    os.mkdir(\".\\\\vehicles_original\")\n",
    "\n",
    "for vehi in vehicles:\n",
    "    pm.create_figure_for_inspection(\n",
    "        [vehi.vertices[:, [0,2,1]]], [vehi.faces], f\".\\\\vehicles_original\\\\{vehi.name}.html\")"
   ]
  },
  {
   "cell_type": "code",
   "execution_count": null,
   "metadata": {},
   "outputs": [],
   "source": [
    "idx = 60\n",
    "print(vehicles[idx])\n",
    "vehicles[idx].to_trimesh().show()"
   ]
  },
  {
   "cell_type": "code",
   "execution_count": null,
   "metadata": {},
   "outputs": [],
   "source": [
    "global_res = 0.1\n",
    "standard_bbox = [2.5, 1.9, 5.6, -1.25, 1.25, 0.0, 1.90, -2.8, 2.8]\n",
    "grid_res = [int(np.ceil(standard_bbox[0]/global_res)),\n",
    "            int(np.ceil(standard_bbox[1]/global_res)),\n",
    "            int(np.ceil(standard_bbox[2]/global_res))]\n",
    "print(grid_res)\n",
    "print(vehicles[idx])\n",
    "vehicles[idx].to_voxel(sampling_space=standard_bbox, \n",
    "                       grid_res=grid_res).to_trimesh().show()"
   ]
  },
  {
   "cell_type": "code",
   "execution_count": null,
   "metadata": {},
   "outputs": [],
   "source": [
    "vehi_reconstructor = vehicle_reconstructor(vehicles=vehicles, \n",
    "                      sampling_space=standard_bbox, \n",
    "                      grid_res=grid_res)"
   ]
  },
  {
   "cell_type": "code",
   "execution_count": null,
   "metadata": {},
   "outputs": [],
   "source": [
    "use_preprocessed_voxel = True\n",
    "\n",
    "if use_preprocessed_voxel:\n",
    "    vehi_reconstructor.load_voxel(\".\\\\preprocessed_voxel.bin\")\n",
    "else:\n",
    "    vehi_reconstructor.voxelize_vehicles()\n",
    "    vehi_reconstructor.save_voxel(\".\\\\preprocessed_voxel.bin\")"
   ]
  },
  {
   "cell_type": "code",
   "execution_count": null,
   "metadata": {},
   "outputs": [],
   "source": [
    "vehi_reconstructor.fit_model(k=5)"
   ]
  },
  {
   "cell_type": "code",
   "execution_count": null,
   "metadata": {},
   "outputs": [],
   "source": [
    "reconstructed_vehicles = vehi_reconstructor.reconsturct()"
   ]
  },
  {
   "cell_type": "code",
   "execution_count": null,
   "metadata": {},
   "outputs": [],
   "source": [
    "reconstructed_vehicles[idx].to_trimesh().show()"
   ]
  },
  {
   "cell_type": "code",
   "execution_count": null,
   "metadata": {},
   "outputs": [],
   "source": [
    "if not os.path.exists(\".\\\\vehicles_reconstructed\"):\n",
    "    os.mkdir(\".\\\\vehicles_reconstructed\")\n",
    "\n",
    "for idx, vehi in enumerate(reconstructed_vehicles):\n",
    "    vehi = vehi.to_trimesh()\n",
    "    pm.create_figure_for_inspection(\n",
    "        [vehi.vertices[:, [0, 2, 1]]], [vehi.faces], f\".\\\\vehicles_reconstructed\\\\{vehicles[idx].name}.html\")"
   ]
  },
  {
   "cell_type": "code",
   "execution_count": null,
   "metadata": {},
   "outputs": [],
   "source": [
    "import numpy as np\n",
    "import torch\n",
    "import matplotlib.pyplot as plt\n",
    "import ipywidgets as widgets\n",
    "from ipywidgets import interact, FloatSlider\n",
    "\n",
    "global vehi\n",
    "vehi = None\n",
    "\n",
    "def slidar_create(min=-10.0, max=10.0, desc=\"desc:\"):\n",
    "    return widgets.FloatSlider(\n",
    "        value=0.0,\n",
    "        min=min,\n",
    "        max=max,\n",
    "        step=0.1,\n",
    "        description=desc,\n",
    "        disabled=False,\n",
    "        continuous_update=False,\n",
    "        orientation='horizontal',\n",
    "        readout=True,\n",
    "        readout_format='.1f',\n",
    "    )\n",
    "\n",
    "\n",
    "def generate_model(a, b, c, d, e):\n",
    "    latent = torch.Tensor([[a, b, c, d, e]])\n",
    "    global vehi\n",
    "    vehi = vehi_reconstructor.decode(latent)[0].to_trimesh()\n",
    "    # pm.create_figure_for_inspection(\n",
    "    #     [vehi.vertices[:, [0, 2, 1]]], [vehi.faces], f\"temp.html\")\n",
    "\n",
    "interact(generate_model, a=slidar_create(-40.0, 40.0, 'v'),\n",
    "         b=slidar_create(-20.0, 20.0, 'w'),\n",
    "         c=slidar_create(-20.0, 20.0, 'x'),\n",
    "         d=slidar_create(-20.0, 20.0, 'y'),\n",
    "         e=slidar_create(-20.0, 20.0, 'z'))"
   ]
  },
  {
   "cell_type": "code",
   "execution_count": null,
   "metadata": {},
   "outputs": [
    {
     "ename": "",
     "evalue": "",
     "output_type": "error",
     "traceback": [
      "\u001b[1;31mThe Kernel crashed while executing code in the current cell or a previous cell. \n",
      "\u001b[1;31mPlease review the code in the cell(s) to identify a possible cause of the failure. \n",
      "\u001b[1;31mClick <a href='https://aka.ms/vscodeJupyterKernelCrash'>here</a> for more info. \n",
      "\u001b[1;31mView Jupyter <a href='command:jupyter.viewOutput'>log</a> for further details."
     ]
    }
   ],
   "source": [
    "vehi.show()"
   ]
  }
 ],
 "metadata": {
  "kernelspec": {
   "display_name": "car_shape_recon",
   "language": "python",
   "name": "python3"
  },
  "language_info": {
   "codemirror_mode": {
    "name": "ipython",
    "version": 3
   },
   "file_extension": ".py",
   "mimetype": "text/x-python",
   "name": "python",
   "nbconvert_exporter": "python",
   "pygments_lexer": "ipython3",
   "version": "3.10.0"
  }
 },
 "nbformat": 4,
 "nbformat_minor": 2
}
