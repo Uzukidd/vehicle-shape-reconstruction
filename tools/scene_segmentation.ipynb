{
 "cells": [
  {
   "cell_type": "code",
   "execution_count": 1,
   "metadata": {},
   "outputs": [
    {
     "name": "stdout",
     "output_type": "stream",
     "text": [
      "Jupyter environment detected. Enabling Open3D WebVisualizer.\n",
      "[Open3D INFO] WebRTC GUI backend enabled.\n",
      "[Open3D INFO] WebRTCWindowSystem: HTTP handshake server disabled.\n"
     ]
    }
   ],
   "source": [
    "import numpy as np\n",
    "import torch\n",
    "import open3d as o3d\n",
    "\n",
    "import sys\n",
    "sys.path.append(\"..\")\n",
    "\n",
    "from vehicle_reconstruction import *\n",
    "from vehicle_reconstruction.scene_segmentation import *\n",
    "from open3d_vis_utils import draw_scenes\n",
    "\n",
    "DEVICE = torch.device(\"cuda:0\" if torch.cuda.is_available() else \"cpu\")"
   ]
  },
  {
   "cell_type": "markdown",
   "metadata": {},
   "source": [
    "## Loading Point Cloud"
   ]
  },
  {
   "cell_type": "code",
   "execution_count": 2,
   "metadata": {},
   "outputs": [
    {
     "name": "stdout",
     "output_type": "stream",
     "text": [
      "(162103, 4)\n",
      "(72, 7)\n"
     ]
    }
   ],
   "source": [
    "pts = np.load(\"../data/00043_pts.npy\").reshape(-1, 4).astype(np.float32)\n",
    "gt_box = np.load(\"../data/00043_gt.npy\").reshape(-1, 7).astype(np.float32)\n",
    "\n",
    "print(pts.shape)\n",
    "print(gt_box.shape)"
   ]
  },
  {
   "cell_type": "markdown",
   "metadata": {},
   "source": [
    "## Visualizaing Point Cloud"
   ]
  },
  {
   "cell_type": "code",
   "execution_count": 3,
   "metadata": {},
   "outputs": [],
   "source": [
    "vis = o3d.visualization.Visualizer()\n",
    "vis.create_window(window_name=\"view\")\n",
    "\n",
    "draw_scenes(vis, points=pts, gt_boxes=gt_box, draw_origin=True)\n",
    "\n",
    "vis.run()\n",
    "vis.destroy_window()"
   ]
  },
  {
   "cell_type": "markdown",
   "metadata": {},
   "source": [
    "## Preparing vehicle reconstructor"
   ]
  },
  {
   "cell_type": "code",
   "execution_count": 4,
   "metadata": {},
   "outputs": [
    {
     "name": "stdout",
     "output_type": "stream",
     "text": [
      "loading 79 car models\n"
     ]
    }
   ],
   "source": [
    "from vehicle_reconstruction import vehicle, vehicle_reconstructor, constants, quantify_bbox\n",
    "from vehicle_reconstruction.data_utils import apolloscape_dataset\n",
    "\n",
    "constants.apolloscape_constant.set_apolloscape_dir(\"/mnt/sda/uzuki_space/voxeltorch/assets/apollo_scape\")\n",
    "apolloscape = apolloscape_dataset()\n"
   ]
  },
  {
   "cell_type": "code",
   "execution_count": 5,
   "metadata": {},
   "outputs": [
    {
     "name": "stdout",
     "output_type": "stream",
     "text": [
      "Pretrained parameter not found!\n"
     ]
    }
   ],
   "source": [
    "TSDF_UNIT = torch.Tensor([0.1]*3).to(DEVICE)\n",
    "bbox = apolloscape.get_bbox().to(DEVICE)\n",
    "antisotropic_res = (bbox / TSDF_UNIT).ceil().int()\n",
    "quantified_bbox = quantify_bbox(bbox, TSDF_UNIT)\n",
    "\n",
    "apolloscape_meshes = apolloscape.get_batch_centered_meshes(quantified_bbox).to(DEVICE)\n",
    "\n",
    "vehi_reconstructor = vehicle_reconstructor(resolution=antisotropic_res + 1, \n",
    "                      bbox=quantified_bbox,\n",
    "                      unit=TSDF_UNIT)\n",
    "\n",
    "if os.path.exists(\"../data/vehicle_ckpt.pt\"):\n",
    "    vehi_reconstructor.load_parameters(\"../data/vehicle_ckpt.pt\")\n",
    "else:\n",
    "    print(f\"Pretrained parameter not found!\")\n",
    "    vehi_reconstructor.fit_meshes(apolloscape_meshes)\n",
    "    # vehi_reconstructor.save_parameters(\"../data/vehicle_ckpt.pt\")\n"
   ]
  },
  {
   "cell_type": "code",
   "execution_count": 6,
   "metadata": {},
   "outputs": [
    {
     "name": "stdout",
     "output_type": "stream",
     "text": [
      "72\n"
     ]
    }
   ],
   "source": [
    "scene = point_cloud_scene(pts=torch.from_numpy(pts).to(DEVICE),\n",
    "                          gt_boxes=torch.from_numpy(gt_box).to(DEVICE))\n",
    "vehicles: vehicle_object = scene.get_vehicles()\n",
    "print(vehicles.__len__())"
   ]
  },
  {
   "cell_type": "code",
   "execution_count": null,
   "metadata": {},
   "outputs": [
    {
     "name": "stdout",
     "output_type": "stream",
     "text": [
      "Time cost:0.22104620933532715, 0.008841848373413086 per epoch\n",
      "torch.return_types.min(\n",
      "values=tensor([-1.0091e+02, -9.9274e+01,  1.3037e-03], device='cuda:0'),\n",
      "indices=tensor([16896, 15872, 34313], device='cuda:0'))\n",
      "torch.return_types.max(\n",
      "values=tensor([118.5135, 105.1639,   1.9644], device='cuda:0'),\n",
      "indices=tensor([20480, 13312, 17416], device='cuda:0'))\n"
     ]
    }
   ],
   "source": [
    "scene.pose_estimate(vehi_reconstructor=vehi_reconstructor, iter=20)\n",
    "\n",
    "training_point_clouds = vehicles.get_training_point_clouds()\n",
    "print(training_point_clouds.points_packed().min(dim=0))\n",
    "print(training_point_clouds.points_packed().max(dim=0))\n",
    "\n",
    "vis = o3d.visualization.Visualizer()\n",
    "vis.create_window(window_name=\"view\")\n",
    "draw_scenes(vis, points=pts, gt_boxes=gt_box,\n",
    "            draw_origin=True)\n",
    "\n",
    "mesh = vehicles.reconstruct_at_scene(\n",
    "    vehi_reconstructor, threshold=10, show_rooftop=True)\n",
    "\n",
    "mesh = o3d.geometry.TriangleMesh(\n",
    "    o3d.utility.Vector3dVector(mesh.verts_packed().detach().cpu().numpy()),\n",
    "    o3d.utility.Vector3iVector(mesh.faces_packed().detach().cpu().numpy()))\n",
    "\n",
    "# vertex_colors = np.ones_like(mesh.vertices) * np.array([0.7, 0.75, 0.7])\n",
    "# vertex_colors[rooftop_idx] = np.array([0.0, 0.6, 0.0])\n",
    "# vertex_colors = o3d.utility.Vector3dVector(vertex_colors)\n",
    "# mesh.vertex_colors = vertex_colors\n",
    "# # mesh = mesh.filter_smooth_simple(number_of_iterations=5)\n",
    "mesh.compute_vertex_normals()\n",
    "\n",
    "vis.add_geometry(mesh)\n",
    "\n",
    "# for vehi in vehicles:\n",
    "#     if vehi is None:\n",
    "#         continue\n",
    "    \n",
    "#     mesh = vehi.reconstruct_at_scene(\n",
    "#         vehi_reconstructor, show_rooftop=True)\n",
    "    \n",
    "#     # rooftop_center = mesh.vertices[rooftop_idx].mean(0)\n",
    "    \n",
    "#     # axis_pcd = o3d.geometry.TriangleMesh.create_coordinate_frame(\n",
    "#     #         size=1.0, origin=rooftop_center)\n",
    "#     # vis.add_geometry(axis_pcd)\n",
    "    \n",
    "#     mesh = o3d.geometry.TriangleMesh(\n",
    "#         o3d.utility.Vector3dVector(mesh.verts_packed().detach().cpu().numpy()),\n",
    "#         o3d.utility.Vector3iVector(mesh.faces_packed().detach().cpu().numpy()))\n",
    "    \n",
    "\n",
    "#     # vertex_colors = np.ones_like(mesh.vertices) * np.array([0.7, 0.75, 0.7])\n",
    "#     # vertex_colors[rooftop_idx] = np.array([0.0, 0.6, 0.0])\n",
    "#     # vertex_colors = o3d.utility.Vector3dVector(vertex_colors)\n",
    "#     # mesh.vertex_colors = vertex_colors\n",
    "#     # # mesh = mesh.filter_smooth_simple(number_of_iterations=5)\n",
    "#     mesh.compute_vertex_normals()\n",
    "\n",
    "#     vis.add_geometry(mesh)\n",
    "vis.run()\n",
    "vis.destroy_window()"
   ]
  },
  {
   "cell_type": "code",
   "execution_count": 8,
   "metadata": {},
   "outputs": [],
   "source": [
    "\n",
    "# centroid_point_clouds = vehicles.get_training_point_clouds()\n",
    "\n",
    "# for pts in centroid_point_clouds:\n",
    "#     vis = o3d.visualization.Visualizer()\n",
    "#     vis.create_window(window_name=\"view\")\n",
    "    \n",
    "#     # pts_centroid, bbox_centroid = vehi.centroid()\n",
    "#     # point_colors = np.zeros((pts_centroid.shape[0], 3))\n",
    "#     # point_colors[:, 0] = 1.0\n",
    "#     # pts:Pointclouds = pts\n",
    "#     draw_scenes(vis, points=pts.points_packed(), draw_origin=True)\n",
    "#     # draw_scenes(vis, points=pts_centroid,\n",
    "#     #             gt_boxes=bbox_centroid.unsqueeze(dim=0), draw_origin=True, point_colors=point_colors)\n",
    "    \n",
    "    \n",
    "    \n",
    "#     # vehi.reconstruct_vehicle(vehi_reconstructor)\n",
    "#     # vehicle_mesh: vehicle = vehi.vehicle\n",
    "#     # vehicle_mesh = vehicle_mesh.to_trimesh()\n",
    "#     # vehicle_mesh.vertices *= 0.1\n",
    "#     # vehicle_mesh.vertices = vehicle_mesh.vertices[:, [2, 0, 1]]\n",
    "    \n",
    "#     # vehicle_mesh.vertices -= np.array([standard_bbox[2]/2.0,\n",
    "#     #                                   standard_bbox[0]/2.0,\n",
    "#     #                                   bbox_centroid[5].cpu() / 2.0])\n",
    "    \n",
    "#     # mesh = o3d.geometry.TriangleMesh(\n",
    "#     #     o3d.utility.Vector3dVector(vehicle_mesh.vertices), \n",
    "#     #     o3d.utility.Vector3iVector(vehicle_mesh.faces))\n",
    "#     # # mesh = mesh.filter_smooth_simple(number_of_iterations=1)\n",
    "#     # mesh.compute_vertex_normals()\n",
    "    \n",
    "#     # vis.add_geometry(mesh)\n",
    "#     vis.run()\n",
    "#     vis.destroy_window()"
   ]
  },
  {
   "cell_type": "markdown",
   "metadata": {},
   "source": [
    "{\n",
    "\t\"class_name\" : \"ViewTrajectory\",\n",
    "\t\"interval\" : 29,\n",
    "\t\"is_loop\" : false,\n",
    "\t\"trajectory\" : \n",
    "\t[\n",
    "\t\t{\n",
    "\t\t\t\"boundingbox_max\" : [ 69.118263244628906, 39.679920196533203, 16.415634155273438 ],\n",
    "\t\t\t\"boundingbox_min\" : [ -0.059999999999999998, -39.679874420166016, -6.9146575927734375 ],\n",
    "\t\t\t\"field_of_view\" : 60.0,\n",
    "\t\t\t\"front\" : [ -0.90307097537632919, 0.0017988087570628851, 0.42948757574567964 ],\n",
    "\t\t\t\"lookat\" : [ 34.529131622314452, 2.288818359375e-05, 4.75048828125 ],\n",
    "\t\t\t\"up\" : [ 0.42948904059539766, 0.0070563614983622357, 0.90304450154510629 ],\n",
    "\t\t\t\"zoom\" : 0.69999999999999996\n",
    "\t\t}\n",
    "\t],\n",
    "\t\"version_major\" : 1,\n",
    "\t\"version_minor\" : 0\n",
    "}"
   ]
  }
 ],
 "metadata": {
  "kernelspec": {
   "display_name": "env_vehicle_reconstruct",
   "language": "python",
   "name": "python3"
  },
  "language_info": {
   "codemirror_mode": {
    "name": "ipython",
    "version": 3
   },
   "file_extension": ".py",
   "mimetype": "text/x-python",
   "name": "python",
   "nbconvert_exporter": "python",
   "pygments_lexer": "ipython3",
   "version": "3.9.21"
  }
 },
 "nbformat": 4,
 "nbformat_minor": 2
}
