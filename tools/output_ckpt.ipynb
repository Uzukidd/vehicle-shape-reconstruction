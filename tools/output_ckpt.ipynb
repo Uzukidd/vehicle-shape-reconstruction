{
 "cells": [
  {
   "cell_type": "code",
   "execution_count": 3,
   "metadata": {},
   "outputs": [],
   "source": [
    "from vehicle_reconstruction import *\n",
    "\n",
    "vehi_reconstructor = vehicle_reconstructor(vehicles=None,\n",
    "                                           sampling_space=vehicle_reconstructor.STANDARD_BBOX,\n",
    "                                           grid_res=vehicle_reconstructor.GRID_RES,\n",
    "                                           global_res=vehicle_reconstructor.GLOBAL_RES)\n",
    "vehi_reconstructor.load_voxel(\"../data/preprocessed_voxel.bin\")\n",
    "vehi_reconstructor.fit_model(k=5)\n",
    "vehi_reconstructor.save_parameters(\"./vehi_reconstructor_baidu_apollo.pt\")"
   ]
  },
  {
   "cell_type": "code",
   "execution_count": 4,
   "metadata": {},
   "outputs": [],
   "source": [
    "vehi_reconstructor.load_parameters(\"./vehi_reconstructor_baidu_apollo.pt\")"
   ]
  }
 ],
 "metadata": {
  "kernelspec": {
   "display_name": "iou_mesh_attack",
   "language": "python",
   "name": "python3"
  },
  "language_info": {
   "codemirror_mode": {
    "name": "ipython",
    "version": 3
   },
   "file_extension": ".py",
   "mimetype": "text/x-python",
   "name": "python",
   "nbconvert_exporter": "python",
   "pygments_lexer": "ipython3",
   "version": "3.9.18"
  }
 },
 "nbformat": 4,
 "nbformat_minor": 2
}
