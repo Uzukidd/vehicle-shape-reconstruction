{
 "cells": [
  {
   "cell_type": "markdown",
   "metadata": {},
   "source": [
    "# Demo: encoding apollo scape via vehicle_reconstructor"
   ]
  },
  {
   "cell_type": "markdown",
   "metadata": {},
   "source": [
    "## Step 1: Loading dataset"
   ]
  },
  {
   "cell_type": "code",
   "execution_count": null,
   "metadata": {},
   "outputs": [],
   "source": [
    "import glob\n",
    "import torch\n",
    "from pytorch3d.io import load_obj\n",
    "from pytorch3d.structures import Meshes, Pointclouds\n",
    "from pytorch3d.vis.plotly_vis import plot_scene\n",
    "from pprint import pprint\n",
    "import os\n",
    "\n",
    "import sys\n",
    "sys.path.append(\"..\")\n",
    "\n",
    "from vehicle_reconstruction import vehicle, vehicle_reconstructor, constants\n",
    "from vehicle_reconstruction.data_utils import apolloscape_dataset\n",
    "\n",
    "DEVICE = torch.device(\"cuda:0\")\n",
    "\n",
    "constants.apolloscape_constant.set_apolloscape_dir(\"/mnt/sda/uzuki_space/voxeltorch/assets/apollo_scape\")"
   ]
  },
  {
   "cell_type": "code",
   "execution_count": null,
   "metadata": {},
   "outputs": [],
   "source": [
    "for id, vehi in enumerate(constants.apolloscape_constant.models):\n",
    "    print(f\"\\t{id}:\\t{vehi.name:25}\", end='\\t')\n",
    "    if id % 4 == 0:\n",
    "        print()"
   ]
  },
  {
   "cell_type": "code",
   "execution_count": null,
   "metadata": {},
   "outputs": [],
   "source": [
    "apolloscape = apolloscape_dataset()\n",
    "apolloscape_meshes = apolloscape.get_batch_centered_meshes().to(DEVICE)"
   ]
  },
  {
   "cell_type": "code",
   "execution_count": null,
   "metadata": {},
   "outputs": [],
   "source": [
    "def visualize_meshes(meshes: Meshes, title: str = \"Mesh\"):\n",
    "    mesh_dict = {}\n",
    "    for idx in range(meshes.__len__()):\n",
    "        mesh_dict[title + f\" {idx}\"] = {\n",
    "            \"mesh\": meshes[idx]\n",
    "        }\n",
    "    fig = plot_scene(mesh_dict, ncols=2)\n",
    "    fig.update_layout(height=400, width=400 * meshes.__len__())\n",
    "    return fig\n",
    "\n",
    "selected_idx = torch.randint(0, apolloscape_meshes.__len__() - 1, (2, ))\n",
    "print(\"Visualizing original meshes...\")\n",
    "fig = visualize_meshes(apolloscape_meshes[selected_idx], \"Original Meshes\")\n",
    "fig.show()"
   ]
  },
  {
   "cell_type": "markdown",
   "metadata": {},
   "source": [
    "## Step 2: Preparing vehicle reconstructor"
   ]
  },
  {
   "cell_type": "code",
   "execution_count": null,
   "metadata": {},
   "outputs": [],
   "source": [
    "TSDF_UNIT = torch.Tensor([0.1]*3).to(DEVICE)\n",
    "bbox = apolloscape.get_bbox().to(DEVICE)\n",
    "\n",
    "antisotropic_res = (bbox / TSDF_UNIT).ceil().int()\n",
    "\n",
    "vehi_reconstructor = vehicle_reconstructor(resolution=antisotropic_res, \n",
    "                      bbox=bbox)"
   ]
  },
  {
   "cell_type": "code",
   "execution_count": null,
   "metadata": {},
   "outputs": [],
   "source": [
    "vehi_reconstructor.fit_meshes(apolloscape_meshes)\n",
    "vehi_reconstructor.save_parameters(\"../data/vehicle_ckpt.pt\")"
   ]
  },
  {
   "cell_type": "markdown",
   "metadata": {},
   "source": [
    "## Step 3: Testing latent reconstruction"
   ]
  },
  {
   "cell_type": "code",
   "execution_count": null,
   "metadata": {},
   "outputs": [],
   "source": [
    "tsdf_grid = vehi_reconstructor.prepare_tsdf(apolloscape_meshes)\n",
    "reconstructed_tsdf_grids = vehi_reconstructor.reconsturct(tsdf_grid)"
   ]
  },
  {
   "cell_type": "code",
   "execution_count": null,
   "metadata": {},
   "outputs": [],
   "source": [
    "from voxeltorch import TSDF, tsdf2meshes\n",
    "\n",
    "selected_idx = torch.randint(0, apolloscape_meshes.__len__() - 1, (2, ))\n",
    "\n",
    "print(f\"Randomly selected index: [{selected_idx}]\")\n",
    "print(\"Visualizing voxel meshes from TSDF...\")\n",
    "tsdf_meshes = tsdf2meshes(\n",
    "    tsdf_grid[selected_idx], TSDF_UNIT)\n",
    "fig = visualize_meshes(tsdf_meshes, \"Original TSDF Meshes\")\n",
    "fig.show()\n",
    "\n",
    "print(\"Visualizing voxel meshes from reconstructed TSDF...\")\n",
    "tsdf_meshes = tsdf2meshes(\n",
    "    reconstructed_tsdf_grids[selected_idx], TSDF_UNIT)\n",
    "fig = visualize_meshes(tsdf_meshes, \"Reconstructed TSDF Meshes\")\n",
    "fig.show()"
   ]
  },
  {
   "cell_type": "markdown",
   "metadata": {},
   "source": [
    "## Step 4: Exploring latent space"
   ]
  },
  {
   "cell_type": "code",
   "execution_count": null,
   "metadata": {},
   "outputs": [],
   "source": [
    "import numpy as np\n",
    "import torch\n",
    "import matplotlib.pyplot as plt\n",
    "import ipywidgets as widgets\n",
    "from ipywidgets import interact, FloatSlider\n",
    "\n",
    "global vehi\n",
    "vehi = None\n",
    "\n",
    "def slidar_create(min=-10.0, max=10.0, desc=\"desc:\"):\n",
    "    return widgets.FloatSlider(\n",
    "        value=0.0,\n",
    "        min=min,\n",
    "        max=max,\n",
    "        step=0.01,\n",
    "        description=desc,\n",
    "        disabled=False,\n",
    "        continuous_update=False,\n",
    "        orientation='horizontal',\n",
    "        readout=True,\n",
    "        readout_format='.2f',\n",
    "    )\n",
    "\n",
    "\n",
    "def generate_model(a, b, c, d, e):\n",
    "    latent = torch.Tensor([[a, b, c, d, e]]).cuda()\n",
    "    global vehi\n",
    "    vehi = vehi_reconstructor.decode(latent)\n",
    "    print(\"Visualizing voxel meshes from reconstructed TSDF...\")\n",
    "    tsdf_meshes = tsdf2meshes(\n",
    "        vehi, TSDF_UNIT)\n",
    "    fig = visualize_meshes(tsdf_meshes, \"Reconstructed TSDF Meshes\")\n",
    "    fig.show()\n",
    "    # pm.create_figure_for_inspection(\n",
    "    #     [vehi.vertices[:, [0, 2, 1]]], [vehi.faces], f\"temp.html\")\n",
    "\n",
    "interact(generate_model, a=slidar_create(-1.0, 1.0, 'v'),\n",
    "         b=slidar_create(-1.0, 1.0, 'w'),\n",
    "         c=slidar_create(-1.0, 1.0, 'x'),\n",
    "         d=slidar_create(-1.0, 1.0, 'y'),\n",
    "         e=slidar_create(-1.0, 1.0, 'z'))"
   ]
  }
 ],
 "metadata": {
  "kernelspec": {
   "display_name": "env_vehicle_reconstruct",
   "language": "python",
   "name": "python3"
  },
  "language_info": {
   "codemirror_mode": {
    "name": "ipython",
    "version": 3
   },
   "file_extension": ".py",
   "mimetype": "text/x-python",
   "name": "python",
   "nbconvert_exporter": "python",
   "pygments_lexer": "ipython3",
   "version": "3.9.21"
  }
 },
 "nbformat": 4,
 "nbformat_minor": 2
}
