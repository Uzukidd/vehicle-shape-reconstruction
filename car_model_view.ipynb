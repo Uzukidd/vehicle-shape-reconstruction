{
 "cells": [
  {
   "cell_type": "code",
   "execution_count": null,
   "metadata": {},
   "outputs": [],
   "source": [
    "import trimesh\n",
    "import plotting as pm\n",
    "import numpy as np\n",
    "from vehicle_reconstruction import vehicle, car_models, vehicle_reconstructor\n",
    "\n",
    "tesla: trimesh = trimesh.load_mesh(\n",
    "    \"Tesla Model 3.obj\", force='mesh')"
   ]
  },
  {
   "cell_type": "code",
   "execution_count": null,
   "metadata": {},
   "outputs": [],
   "source": [
    "tesla.show()"
   ]
  },
  {
   "cell_type": "code",
   "execution_count": null,
   "metadata": {},
   "outputs": [],
   "source": [
    "global_res = 0.1\n",
    "standard_bbox = [2.5, 1.9, 5.6, -1.25, 1.25, 0.0, 1.90, -2.8, 2.8]\n",
    "grid_res = [int(np.ceil(standard_bbox[0]/global_res)),\n",
    "            int(np.ceil(standard_bbox[1]/global_res)),\n",
    "            int(np.ceil(standard_bbox[2]/global_res))]\n",
    "\n",
    "tesla = vehicle(\"tesla\", tesla.vertices, tesla.faces)\n",
    "\n",
    "tesla.to_voxel(sampling_space=standard_bbox, \n",
    "                       grid_res=grid_res).to_trimesh().show()"
   ]
  }
 ],
 "metadata": {
  "kernelspec": {
   "display_name": "car_shape_recon",
   "language": "python",
   "name": "python3"
  },
  "language_info": {
   "codemirror_mode": {
    "name": "ipython",
    "version": 3
   },
   "file_extension": ".py",
   "mimetype": "text/x-python",
   "name": "python",
   "nbconvert_exporter": "python",
   "pygments_lexer": "ipython3",
   "version": "3.10.0"
  }
 },
 "nbformat": 4,
 "nbformat_minor": 2
}
